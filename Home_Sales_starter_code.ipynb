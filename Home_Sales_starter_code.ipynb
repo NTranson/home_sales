{
 "cells": [
  {
   "cell_type": "code",
   "execution_count": 46,
   "metadata": {
    "colab": {
     "base_uri": "https://localhost:8080/"
    },
    "id": "a_KW73O2e3dw",
    "outputId": "fa5fd2b3-e2de-491b-ee1c-405317ba7ebc"
   },
   "outputs": [],
   "source": [
    "# Import findspark and initialize. \n",
    "import findspark\n",
    "findspark.init()"
   ]
  },
  {
   "cell_type": "code",
   "execution_count": 47,
   "metadata": {
    "id": "2XbWNf1Te5fM"
   },
   "outputs": [],
   "source": [
    "# Import packages\n",
    "from pyspark.sql import SparkSession\n",
    "import time\n",
    "\n",
    "# Create a SparkSession\n",
    "## Issues with my environment leading to edited session start\n",
    "spark=SparkSession.builder.config(\"spark.driver.host\", \"localhost\").appName('appname').getOrCreate()"
   ]
  },
  {
   "cell_type": "code",
   "execution_count": 48,
   "metadata": {
    "colab": {
     "base_uri": "https://localhost:8080/"
    },
    "id": "wOJqxG_RPSwp",
    "outputId": "7857ef9f-5b04-405d-f5aa-e535dfe7870c"
   },
   "outputs": [],
   "source": [
    "# 1. Read in the AWS S3 bucket into a DataFrame.\n",
    "from pyspark import SparkFiles\n",
    "url = \"https://2u-data-curriculum-team.s3.amazonaws.com/dataviz-classroom/v1.2/22-big-data/home_sales_revised.csv\"\n",
    "\n",
    "spark.sparkContext.addFile(url)\n",
    "df = spark.read.csv(SparkFiles.get(\"home_sales_revised.csv\"), header=True, inferSchema=True)\n"
   ]
  },
  {
   "cell_type": "code",
   "execution_count": 49,
   "metadata": {
    "id": "RoljcJ7WPpnm"
   },
   "outputs": [],
   "source": [
    "# 2. Create a temporary view of the DataFrame.\n",
    "df.createOrReplaceTempView('home_sales')\n"
   ]
  },
  {
   "cell_type": "code",
   "execution_count": 50,
   "metadata": {
    "colab": {
     "base_uri": "https://localhost:8080/"
    },
    "id": "L6fkwOeOmqvq",
    "outputId": "bdded620-79c4-488d-c7a5-91c6799c419e"
   },
   "outputs": [
    {
     "name": "stdout",
     "output_type": "stream",
     "text": [
      "+----+----------------------+\n",
      "|Year|Average_Price_4Bedroom|\n",
      "+----+----------------------+\n",
      "|2010|             296800.75|\n",
      "|2011|              302141.9|\n",
      "|2012|             298233.42|\n",
      "|2013|             299999.39|\n",
      "|2014|             299073.89|\n",
      "|2015|             307908.86|\n",
      "|2016|             296050.24|\n",
      "|2017|             296576.69|\n",
      "+----+----------------------+\n",
      "\n"
     ]
    }
   ],
   "source": [
    "# 3. What is the average price for a four bedroom house sold per year, rounded to two decimal places?\n",
    "average_price_query = \"\"\"\n",
    "  SELECT \n",
    "    date_built AS Year, \n",
    "    ROUND(AVG(price), 2) AS Average_Price_4Bedroom\n",
    "  FROM \n",
    "    home_sales\n",
    "  WHERE \n",
    "    bedrooms = 4\n",
    "  GROUP BY \n",
    "    Year\n",
    "  ORDER BY \n",
    "    Year\n",
    "\"\"\"\n",
    "spark.sql(average_price_query).show()\n"
   ]
  },
  {
   "cell_type": "code",
   "execution_count": 51,
   "metadata": {
    "colab": {
     "base_uri": "https://localhost:8080/"
    },
    "id": "l8p_tUS8h8it",
    "outputId": "65806e5f-6262-41c0-ff65-5107464e5c4d"
   },
   "outputs": [
    {
     "name": "stdout",
     "output_type": "stream",
     "text": [
      "+----+--------------------+\n",
      "|Year|Average_Price_3B_3Ba|\n",
      "+----+--------------------+\n",
      "|2010|           292859.62|\n",
      "|2011|           291117.47|\n",
      "|2012|           293683.19|\n",
      "|2013|           295962.27|\n",
      "|2014|           290852.27|\n",
      "|2015|            288770.3|\n",
      "|2016|           290555.07|\n",
      "|2017|           292676.79|\n",
      "+----+--------------------+\n",
      "\n"
     ]
    }
   ],
   "source": [
    "# 4. What is the average price of a home for each year the home was built,\n",
    "# that have 3 bedrooms and 3 bathrooms, rounded to two decimal places?\n",
    "average_price_query_3b3ba = \"\"\"\n",
    "  SELECT \n",
    "    date_built AS Year, \n",
    "    ROUND(AVG(price), 2) AS Average_Price_3B_3Ba\n",
    "  FROM \n",
    "    home_sales\n",
    "  WHERE \n",
    "    bedrooms = 3 AND bathrooms = 3\n",
    "  GROUP BY \n",
    "    Year\n",
    "  ORDER BY \n",
    "    Year\n",
    "\"\"\"\n",
    "\n",
    "\n",
    "spark.sql(average_price_query_3b3ba).show()\n"
   ]
  },
  {
   "cell_type": "code",
   "execution_count": 52,
   "metadata": {
    "colab": {
     "base_uri": "https://localhost:8080/"
    },
    "id": "Y-Eytz64liDU",
    "outputId": "17119810-56ad-40c3-de5e-c3db57e43bcc"
   },
   "outputs": [
    {
     "name": "stdout",
     "output_type": "stream",
     "text": [
      "+----+-------------+\n",
      "|Year|Average_Price|\n",
      "+----+-------------+\n",
      "|2010|    285010.22|\n",
      "|2011|    276553.81|\n",
      "|2012|    307539.97|\n",
      "|2013|    303676.79|\n",
      "|2014|    298264.72|\n",
      "|2015|    297609.97|\n",
      "|2016|     293965.1|\n",
      "|2017|    280317.58|\n",
      "+----+-------------+\n",
      "\n"
     ]
    }
   ],
   "source": [
    "# 5. What is the average price of a home for each year the home was built,\n",
    "# that have 3 bedrooms, 3 bathrooms, with two floors,\n",
    "# and are greater than or equal to 2,000 square feet, rounded to two decimal places?\n",
    "detailed_avg_price_query = \"\"\"\n",
    "  SELECT \n",
    "    date_built AS Year, \n",
    "    ROUND(AVG(price), 2) AS Average_Price\n",
    "  FROM \n",
    "    home_sales\n",
    "  WHERE \n",
    "    bedrooms = 3 AND \n",
    "    bathrooms = 3 AND \n",
    "    floors = 2 AND \n",
    "    sqft_living >= 2000\n",
    "  GROUP BY \n",
    "    Year\n",
    "  ORDER BY \n",
    "    Year\n",
    "\"\"\"\n",
    "spark.sql(detailed_avg_price_query).show()\n"
   ]
  },
  {
   "cell_type": "code",
   "execution_count": 53,
   "metadata": {
    "colab": {
     "base_uri": "https://localhost:8080/"
    },
    "id": "GUrfgOX1pCRd",
    "outputId": "17c25774-855e-4290-a4bd-a04902bdc13a"
   },
   "outputs": [
    {
     "name": "stdout",
     "output_type": "stream",
     "text": [
      "+-----------+-------------+---------+\n",
      "|View_Rating|Average_Price|Num_Homes|\n",
      "+-----------+-------------+---------+\n",
      "|        100|    1026669.5|       28|\n",
      "|         99|   1061201.42|       31|\n",
      "|         98|   1053739.33|       33|\n",
      "|         97|   1129040.15|       27|\n",
      "|         96|   1017815.92|       36|\n",
      "|         95|    1054325.6|       45|\n",
      "|         94|    1033536.2|       50|\n",
      "|         93|   1026006.06|       33|\n",
      "|         92|    970402.55|       42|\n",
      "|         91|   1137372.73|       41|\n",
      "|         90|   1062654.16|       37|\n",
      "|         89|   1107839.15|       40|\n",
      "|         88|   1031719.35|       31|\n",
      "|         87|    1072285.2|       40|\n",
      "|         86|   1070444.25|       44|\n",
      "|         85|   1056336.74|       39|\n",
      "|         84|   1117233.13|       31|\n",
      "|         83|   1033965.93|       40|\n",
      "|         82|    1063498.0|       43|\n",
      "|         81|   1053472.79|       33|\n",
      "+-----------+-------------+---------+\n",
      "only showing top 20 rows\n",
      "\n",
      "--- 0.17 seconds ---\n"
     ]
    }
   ],
   "source": [
    "# 6. What is the average price of a home per \"view\" rating, rounded to two decimal places,\n",
    "# having an average home price greater than or equal to $350,000? Order by descending view rating. \n",
    "# Although this is a small dataset, determine the run time for this query.\n",
    "\n",
    "start_time = time.time()\n",
    "view_rating_query = \"\"\"\n",
    "  SELECT \n",
    "    view AS View_Rating, \n",
    "    ROUND(AVG(price), 2) AS Average_Price, \n",
    "    COUNT(*) AS Num_Homes\n",
    "  FROM \n",
    "    home_sales\n",
    "  GROUP BY \n",
    "    View_Rating\n",
    "  HAVING \n",
    "    AVG(price) >= 350000\n",
    "  ORDER BY \n",
    "    View_Rating DESC\n",
    "\"\"\"\n",
    "spark.sql(view_rating_query).show()\n",
    "\n",
    "elapsed_time = time.time() - start_time\n",
    "print(f\"--- {elapsed_time:.2f} seconds ---\")"
   ]
  },
  {
   "cell_type": "code",
   "execution_count": 54,
   "metadata": {
    "colab": {
     "base_uri": "https://localhost:8080/"
    },
    "id": "KAhk3ZD2tFy8",
    "outputId": "0a8f132d-40a8-4bd4-b5f2-2847e98427f5"
   },
   "outputs": [
    {
     "data": {
      "text/plain": [
       "DataFrame[]"
      ]
     },
     "execution_count": 54,
     "metadata": {},
     "output_type": "execute_result"
    }
   ],
   "source": [
    "# 7. Cache the the temporary table home_sales.\n",
    "spark.sql(\"cache table home_sales\")"
   ]
  },
  {
   "cell_type": "code",
   "execution_count": 55,
   "metadata": {
    "colab": {
     "base_uri": "https://localhost:8080/"
    },
    "id": "4opVhbvxtL-i",
    "outputId": "38ec8487-795f-4550-b50c-fcc6f2b7c769"
   },
   "outputs": [
    {
     "data": {
      "text/plain": [
       "True"
      ]
     },
     "execution_count": 55,
     "metadata": {},
     "output_type": "execute_result"
    }
   ],
   "source": [
    "# 8. Check if the table is cached.\n",
    "spark.catalog.isCached('home_sales')"
   ]
  },
  {
   "cell_type": "code",
   "execution_count": 56,
   "metadata": {
    "colab": {
     "base_uri": "https://localhost:8080/"
    },
    "id": "5GnL46lwTSEk",
    "outputId": "09a16c73-194d-4371-95d1-ee64fe83b91c"
   },
   "outputs": [
    {
     "name": "stdout",
     "output_type": "stream",
     "text": [
      "+-----------+-------------+---------+\n",
      "|View_Rating|Average_Price|Num_Homes|\n",
      "+-----------+-------------+---------+\n",
      "|        100|    1026669.5|       28|\n",
      "|         99|   1061201.42|       31|\n",
      "|         98|   1053739.33|       33|\n",
      "|         97|   1129040.15|       27|\n",
      "|         96|   1017815.92|       36|\n",
      "|         95|    1054325.6|       45|\n",
      "|         94|    1033536.2|       50|\n",
      "|         93|   1026006.06|       33|\n",
      "|         92|    970402.55|       42|\n",
      "|         91|   1137372.73|       41|\n",
      "|         90|   1062654.16|       37|\n",
      "|         89|   1107839.15|       40|\n",
      "|         88|   1031719.35|       31|\n",
      "|         87|    1072285.2|       40|\n",
      "|         86|   1070444.25|       44|\n",
      "|         85|   1056336.74|       39|\n",
      "|         84|   1117233.13|       31|\n",
      "|         83|   1033965.93|       40|\n",
      "|         82|    1063498.0|       43|\n",
      "|         81|   1053472.79|       33|\n",
      "+-----------+-------------+---------+\n",
      "only showing top 20 rows\n",
      "\n",
      "--- 0.15 seconds ---\n"
     ]
    }
   ],
   "source": [
    "# 9. Using the cached data, run the last query above, that calculates \n",
    "# the average price of a home per \"view\" rating, rounded to two decimal places,\n",
    "# having an average home price greater than or equal to $350,000. \n",
    "# Determine the runtime and compare it to the uncached runtime.\n",
    "\n",
    "start_time = time.time()\n",
    "\n",
    "result = spark.sql(\"\"\"\n",
    "    SELECT \n",
    "        view AS View_Rating, \n",
    "        ROUND(AVG(price), 2) AS Average_Price, \n",
    "        COUNT(*) AS Num_Homes\n",
    "    FROM \n",
    "        home_sales\n",
    "    GROUP BY \n",
    "        View_Rating\n",
    "    HAVING \n",
    "        AVG(price) >= 350000\n",
    "    ORDER BY \n",
    "        View_Rating DESC\n",
    "\"\"\")\n",
    "\n",
    "result.show()\n",
    "\n",
    "elapsed_time = time.time() - start_time\n",
    "print(f\"--- {elapsed_time:.2f} seconds ---\")\n"
   ]
  },
  {
   "cell_type": "code",
   "execution_count": 57,
   "metadata": {
    "id": "Qm12WN9isHBR"
   },
   "outputs": [],
   "source": [
    "# 10. Partition by the \"date_built\" field on the formatted parquet home sales data \n",
    "df.write.partitionBy(\"date_built\").mode(\"overwrite\").parquet(\"home_sales_partitioned\")"
   ]
  },
  {
   "cell_type": "code",
   "execution_count": 58,
   "metadata": {
    "id": "AZ7BgY61sRqY"
   },
   "outputs": [],
   "source": [
    "# 11. Read the formatted parquet data.\n",
    "partitioned_df=spark.read.parquet('home_sales_partitioned')"
   ]
  },
  {
   "cell_type": "code",
   "execution_count": 59,
   "metadata": {
    "id": "J6MJkHfvVcvh"
   },
   "outputs": [],
   "source": [
    "# 12. Create a temporary table for the parquet data.\n",
    "partitioned_df.createOrReplaceTempView('home_sales_p')"
   ]
  },
  {
   "cell_type": "code",
   "execution_count": 60,
   "metadata": {
    "colab": {
     "base_uri": "https://localhost:8080/"
    },
    "id": "G_Vhb52rU1Sn",
    "outputId": "a0b8d0c4-55ed-4c6c-bfd8-4c8c5334838e"
   },
   "outputs": [
    {
     "name": "stdout",
     "output_type": "stream",
     "text": [
      "+-----------+-------------+---------+\n",
      "|View_Rating|Average_Price|Num_Homes|\n",
      "+-----------+-------------+---------+\n",
      "|        100|    1026669.5|       28|\n",
      "|         99|   1061201.42|       31|\n",
      "|         98|   1053739.33|       33|\n",
      "|         97|   1129040.15|       27|\n",
      "|         96|   1017815.92|       36|\n",
      "|         95|    1054325.6|       45|\n",
      "|         94|    1033536.2|       50|\n",
      "|         93|   1026006.06|       33|\n",
      "|         92|    970402.55|       42|\n",
      "|         91|   1137372.73|       41|\n",
      "|         90|   1062654.16|       37|\n",
      "|         89|   1107839.15|       40|\n",
      "|         88|   1031719.35|       31|\n",
      "|         87|    1072285.2|       40|\n",
      "|         86|   1070444.25|       44|\n",
      "|         85|   1056336.74|       39|\n",
      "|         84|   1117233.13|       31|\n",
      "|         83|   1033965.93|       40|\n",
      "|         82|    1063498.0|       43|\n",
      "|         81|   1053472.79|       33|\n",
      "+-----------+-------------+---------+\n",
      "only showing top 20 rows\n",
      "\n",
      "--- 0.28 seconds ---\n"
     ]
    }
   ],
   "source": [
    "# 13. Using the parquet DataFrame, run the last query above, that calculates \n",
    "# the average price of a home per \"view\" rating, rounded to two decimal places,\n",
    "# having an average home price greater than or equal to $350,000. \n",
    "# Determine the runtime and compare it to the cached runtime.\n",
    "\n",
    "start_time = time.time()\n",
    "query_results = spark.sql(\"\"\"\n",
    "    SELECT \n",
    "        view AS View_Rating, \n",
    "        ROUND(AVG(price), 2) AS Average_Price, \n",
    "        COUNT(*) AS Num_Homes\n",
    "    FROM \n",
    "        home_sales_p\n",
    "    GROUP BY \n",
    "        View_Rating\n",
    "    HAVING \n",
    "        AVG(price) >= 350000\n",
    "    ORDER BY \n",
    "        View_Rating DESC\n",
    "\"\"\")\n",
    "\n",
    "\n",
    "query_results.show()\n",
    "\n",
    "execution_time = time.time() - start_time\n",
    "print(f\"--- {execution_time:.2f} seconds ---\")"
   ]
  },
  {
   "cell_type": "code",
   "execution_count": 61,
   "metadata": {
    "colab": {
     "base_uri": "https://localhost:8080/"
    },
    "id": "hjjYzQGjtbq8",
    "outputId": "830549fd-bb41-451b-9183-5ebf6e3e470b"
   },
   "outputs": [
    {
     "data": {
      "text/plain": [
       "DataFrame[]"
      ]
     },
     "execution_count": 61,
     "metadata": {},
     "output_type": "execute_result"
    }
   ],
   "source": [
    "# 14. Uncache the home_sales temporary table.\n",
    "spark.sql(\"uncache table home_sales\")"
   ]
  },
  {
   "cell_type": "code",
   "execution_count": 62,
   "metadata": {
    "colab": {
     "base_uri": "https://localhost:8080/"
    },
    "id": "Sy9NBvO7tlmm",
    "outputId": "be73e0e3-5e85-4794-aad9-025fb6fa84a7"
   },
   "outputs": [
    {
     "data": {
      "text/plain": [
       "False"
      ]
     },
     "execution_count": 62,
     "metadata": {},
     "output_type": "execute_result"
    }
   ],
   "source": [
    "# 15. Check if the home_sales is no longer cached\n",
    "spark.catalog.isCached('home_sales')\n"
   ]
  },
  {
   "cell_type": "code",
   "execution_count": null,
   "metadata": {},
   "outputs": [],
   "source": []
  }
 ],
 "metadata": {
  "colab": {
   "collapsed_sections": [],
   "name": "Copy of Home_Sales_solution.ipynb",
   "provenance": []
  },
  "kernelspec": {
   "display_name": "Python 3 (ipykernel)",
   "language": "python",
   "name": "python3"
  },
  "language_info": {
   "codemirror_mode": {
    "name": "ipython",
    "version": 3
   },
   "file_extension": ".py",
   "mimetype": "text/x-python",
   "name": "python",
   "nbconvert_exporter": "python",
   "pygments_lexer": "ipython3",
   "version": "3.12.3"
  },
  "nteract": {
   "version": "0.28.0"
  }
 },
 "nbformat": 4,
 "nbformat_minor": 1
}
